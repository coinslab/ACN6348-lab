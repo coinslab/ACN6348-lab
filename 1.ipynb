{
 "cells": [
  {
   "cell_type": "markdown",
   "metadata": {},
   "source": [
    "## Logistic Regression using Gradient Descent \n",
    "\n",
    "In this notebook we use the concepts from Example 1.5.2 (pg.25) & Example 5.2.16 (pg.136) in the textbook to build a e-mail spam classifier."
   ]
  },
  {
   "cell_type": "code",
   "execution_count": 18,
   "metadata": {},
   "outputs": [
    {
     "name": "stderr",
     "output_type": "stream",
     "text": [
      "\u001b[32m\u001b[1m  Activating\u001b[22m\u001b[39m project at `~/Documents/CODE/ACN6348-lab`\n"
     ]
    }
   ],
   "source": [
    "\n",
    "# This block of code activates the right project environment \n",
    "# and the required packages \n",
    "using Pkg\n",
    "Pkg.activate(\".\")\n",
    "using CSV\n",
    "using DataFrames\n",
    "using PyPlot"
   ]
  },
  {
   "cell_type": "markdown",
   "metadata": {},
   "source": [
    "### Loading the Dataset"
   ]
  },
  {
   "cell_type": "code",
   "execution_count": 19,
   "metadata": {},
   "outputs": [
    {
     "data": {
      "text/html": [
       "<div class=\"data-frame\"><p>4 rows × 7 columns</p><table class=\"data-frame\"><thead><tr><th></th><th>crl.tot</th><th>dollar</th><th>bang</th><th>money</th><th>n000</th><th>make</th><th>yesno</th></tr><tr><th></th><th title=\"Int64\">Int64</th><th title=\"Float64\">Float64</th><th title=\"Float64\">Float64</th><th title=\"Float64\">Float64</th><th title=\"Float64\">Float64</th><th title=\"Float64\">Float64</th><th title=\"String1\">String1</th></tr></thead><tbody><tr><th>1</th><td>278</td><td>0.0</td><td>0.778</td><td>0.0</td><td>0.0</td><td>0.0</td><td>y</td></tr><tr><th>2</th><td>1028</td><td>0.18</td><td>0.372</td><td>0.43</td><td>0.43</td><td>0.21</td><td>y</td></tr><tr><th>3</th><td>2259</td><td>0.184</td><td>0.276</td><td>0.06</td><td>1.16</td><td>0.06</td><td>y</td></tr><tr><th>4</th><td>191</td><td>0.0</td><td>0.137</td><td>0.0</td><td>0.0</td><td>0.0</td><td>y</td></tr></tbody></table></div>"
      ],
      "text/latex": [
       "\\begin{tabular}{r|ccccccc}\n",
       "\t& crl.tot & dollar & bang & money & n000 & make & yesno\\\\\n",
       "\t\\hline\n",
       "\t& Int64 & Float64 & Float64 & Float64 & Float64 & Float64 & String1\\\\\n",
       "\t\\hline\n",
       "\t1 & 278 & 0.0 & 0.778 & 0.0 & 0.0 & 0.0 & y \\\\\n",
       "\t2 & 1028 & 0.18 & 0.372 & 0.43 & 0.43 & 0.21 & y \\\\\n",
       "\t3 & 2259 & 0.184 & 0.276 & 0.06 & 1.16 & 0.06 & y \\\\\n",
       "\t4 & 191 & 0.0 & 0.137 & 0.0 & 0.0 & 0.0 & y \\\\\n",
       "\\end{tabular}\n"
      ],
      "text/plain": [
       "\u001b[1m4×7 DataFrame\u001b[0m\n",
       "\u001b[1m Row \u001b[0m│\u001b[1m crl.tot \u001b[0m\u001b[1m dollar  \u001b[0m\u001b[1m bang    \u001b[0m\u001b[1m money   \u001b[0m\u001b[1m n000    \u001b[0m\u001b[1m make    \u001b[0m\u001b[1m yesno   \u001b[0m\n",
       "\u001b[1m     \u001b[0m│\u001b[90m Int64   \u001b[0m\u001b[90m Float64 \u001b[0m\u001b[90m Float64 \u001b[0m\u001b[90m Float64 \u001b[0m\u001b[90m Float64 \u001b[0m\u001b[90m Float64 \u001b[0m\u001b[90m String1 \u001b[0m\n",
       "─────┼───────────────────────────────────────────────────────────────\n",
       "   1 │     278    0.0      0.778     0.0      0.0      0.0   y\n",
       "   2 │    1028    0.18     0.372     0.43     0.43     0.21  y\n",
       "   3 │    2259    0.184    0.276     0.06     1.16     0.06  y\n",
       "   4 │     191    0.0      0.137     0.0      0.0      0.0   y"
      ]
     },
     "execution_count": 19,
     "metadata": {},
     "output_type": "execute_result"
    }
   ],
   "source": [
    "path = joinpath(pwd(),\"data\",\"spam.csv\")\n",
    "spam = CSV.read(path,DataFrame)\n",
    "first(spam,4) # show only first four rows"
   ]
  },
  {
   "cell_type": "markdown",
   "metadata": {},
   "source": [
    "We'll normalize the `crl.tot` column "
   ]
  },
  {
   "cell_type": "code",
   "execution_count": 20,
   "metadata": {},
   "outputs": [
    {
     "data": {
      "text/html": [
       "<div class=\"data-frame\"><p>4 rows × 7 columns</p><table class=\"data-frame\"><thead><tr><th></th><th>dollar</th><th>bang</th><th>money</th><th>n000</th><th>make</th><th>yesno</th><th>crlnormalized</th></tr><tr><th></th><th title=\"Float64\">Float64</th><th title=\"Float64\">Float64</th><th title=\"Float64\">Float64</th><th title=\"Float64\">Float64</th><th title=\"Float64\">Float64</th><th title=\"String1\">String1</th><th title=\"Float64\">Float64</th></tr></thead><tbody><tr><th>1</th><td>0.0</td><td>0.778</td><td>0.0</td><td>0.0</td><td>0.0</td><td>y</td><td>0.0175494</td></tr><tr><th>2</th><td>0.18</td><td>0.372</td><td>0.43</td><td>0.43</td><td>0.21</td><td>y</td><td>0.0648949</td></tr><tr><th>3</th><td>0.184</td><td>0.276</td><td>0.06</td><td>1.16</td><td>0.06</td><td>y</td><td>0.142605</td></tr><tr><th>4</th><td>0.0</td><td>0.137</td><td>0.0</td><td>0.0</td><td>0.0</td><td>y</td><td>0.0120573</td></tr></tbody></table></div>"
      ],
      "text/latex": [
       "\\begin{tabular}{r|ccccccc}\n",
       "\t& dollar & bang & money & n000 & make & yesno & crlnormalized\\\\\n",
       "\t\\hline\n",
       "\t& Float64 & Float64 & Float64 & Float64 & Float64 & String1 & Float64\\\\\n",
       "\t\\hline\n",
       "\t1 & 0.0 & 0.778 & 0.0 & 0.0 & 0.0 & y & 0.0175494 \\\\\n",
       "\t2 & 0.18 & 0.372 & 0.43 & 0.43 & 0.21 & y & 0.0648949 \\\\\n",
       "\t3 & 0.184 & 0.276 & 0.06 & 1.16 & 0.06 & y & 0.142605 \\\\\n",
       "\t4 & 0.0 & 0.137 & 0.0 & 0.0 & 0.0 & y & 0.0120573 \\\\\n",
       "\\end{tabular}\n"
      ],
      "text/plain": [
       "\u001b[1m4×7 DataFrame\u001b[0m\n",
       "\u001b[1m Row \u001b[0m│\u001b[1m dollar  \u001b[0m\u001b[1m bang    \u001b[0m\u001b[1m money   \u001b[0m\u001b[1m n000    \u001b[0m\u001b[1m make    \u001b[0m\u001b[1m yesno   \u001b[0m\u001b[1m crlnormalized \u001b[0m\n",
       "\u001b[1m     \u001b[0m│\u001b[90m Float64 \u001b[0m\u001b[90m Float64 \u001b[0m\u001b[90m Float64 \u001b[0m\u001b[90m Float64 \u001b[0m\u001b[90m Float64 \u001b[0m\u001b[90m String1 \u001b[0m\u001b[90m Float64       \u001b[0m\n",
       "─────┼─────────────────────────────────────────────────────────────────────\n",
       "   1 │   0.0      0.778     0.0      0.0      0.0   y            0.0175494\n",
       "   2 │   0.18     0.372     0.43     0.43     0.21  y            0.0648949\n",
       "   3 │   0.184    0.276     0.06     1.16     0.06  y            0.142605\n",
       "   4 │   0.0      0.137     0.0      0.0      0.0   y            0.0120573"
      ]
     },
     "execution_count": 20,
     "metadata": {},
     "output_type": "execute_result"
    }
   ],
   "source": [
    "spam.crlnormalized = spam[:,\"crl.tot\"] ./ maximum(spam[:,\"crl.tot\"])\n",
    "select!(spam, Not(\"crl.tot\"));\n",
    "first(spam,4)"
   ]
  },
  {
   "cell_type": "markdown",
   "metadata": {},
   "source": [
    "#### Dataset Description \n",
    "\n",
    "- `crl.tot`: total length of uninterrupted sequences of capitals\n",
    "- `dollar`: Occurrences of the dollar sign, as percent of total number of characters\n",
    "- `bang`: Occurrences of ‘!’, as percent of total number of characters\n",
    "- `money`: Occurrences of ‘money’, as percent of total number of words\n",
    "- `n000`: Occurrences of the string ‘000’, as percent of total number of words\n",
    "- `make`: Occurrences of ‘make’, as a percent of total number of words\n",
    "- `yesno`: outcome variable, a factor with levels n not spam, y spam"
   ]
  },
  {
   "cell_type": "markdown",
   "metadata": {},
   "source": [
    "The next step in our workflow is separate the input patter $\\mathbf{S}$ from the target variable $y$"
   ]
  },
  {
   "cell_type": "code",
   "execution_count": 21,
   "metadata": {},
   "outputs": [],
   "source": [
    "S = select(spam, Not(:yesno)) |> Matrix\n",
    "y = spam.yesno .== \"y\";"
   ]
  },
  {
   "cell_type": "markdown",
   "metadata": {},
   "source": [
    "### Probability Model\n",
    "\n",
    "A logistic regression probability model is given by the formula:\n",
    "\n",
    "$$\\ddot{p}(s,\\theta) = {[1 + \\exp(-\\ddot{y}(s,\\theta))]}^{-1}$$"
   ]
  },
  {
   "cell_type": "code",
   "execution_count": 22,
   "metadata": {},
   "outputs": [
    {
     "data": {
      "text/plain": [
       "phat (generic function with 1 method)"
      ]
     },
     "execution_count": 22,
     "metadata": {},
     "output_type": "execute_result"
    }
   ],
   "source": [
    "phat(S,θ) = (1 .+ exp.(-ydotdot(S,θ))).^-1"
   ]
  },
  {
   "cell_type": "markdown",
   "metadata": {},
   "source": [
    "where \n",
    "$$\\ddot{y}(s,\\theta) = \\theta^T {[s^T 1]}^T$$"
   ]
  },
  {
   "cell_type": "code",
   "execution_count": 23,
   "metadata": {},
   "outputs": [
    {
     "data": {
      "text/plain": [
       "ydotdot (generic function with 1 method)"
      ]
     },
     "execution_count": 23,
     "metadata": {},
     "output_type": "execute_result"
    }
   ],
   "source": [
    "ydotdot(S,θ) = [S ones(length(y))]*θ"
   ]
  },
  {
   "cell_type": "markdown",
   "metadata": {},
   "source": [
    "### Objective Function"
   ]
  },
  {
   "cell_type": "markdown",
   "metadata": {},
   "source": [
    "The cost function $c$ is chosen such that \n",
    "\n",
    "$$c([y,s],\\theta) = -y log\\ddot{p}(s,\\theta) - (1 -y)log(1-\\ddot{p}(s,\\theta))$$"
   ]
  },
  {
   "cell_type": "code",
   "execution_count": 24,
   "metadata": {},
   "outputs": [
    {
     "data": {
      "text/plain": [
       "c (generic function with 1 method)"
      ]
     },
     "execution_count": 24,
     "metadata": {},
     "output_type": "execute_result"
    }
   ],
   "source": [
    "c(y,S,θ) =(-y .* log.(phat(S,θ))) - ((1 .- y) .* log.(1 .- phat(S,θ)))"
   ]
  },
  {
   "cell_type": "markdown",
   "metadata": {},
   "source": [
    "and loss function $$l_n(\\theta) = -(1/n) \\Sigma_{i=1}^n c([y_i,s_i],\\theta)$$"
   ]
  },
  {
   "cell_type": "code",
   "execution_count": 25,
   "metadata": {},
   "outputs": [
    {
     "data": {
      "text/plain": [
       "lₙ (generic function with 1 method)"
      ]
     },
     "execution_count": 25,
     "metadata": {},
     "output_type": "execute_result"
    }
   ],
   "source": [
    "lₙ(θ) = - 1/n * sum(c(y,S,θ))"
   ]
  },
  {
   "cell_type": "markdown",
   "metadata": {},
   "source": [
    "### Gradient \n",
    "\n",
    "Refer to Example 5.2.16 (pg.136) for more details on taking the derivatives of logistic regression objective function.\n",
    "\n",
    "$$\\frac{dc_i}{d\\mathbf{\\theta}} = -(y_i - \\ddot{y_i})[s_i^T, 1]$$"
   ]
  },
  {
   "cell_type": "code",
   "execution_count": 26,
   "metadata": {},
   "outputs": [
    {
     "data": {
      "text/plain": [
       "∇c (generic function with 1 method)"
      ]
     },
     "execution_count": 26,
     "metadata": {},
     "output_type": "execute_result"
    }
   ],
   "source": [
    "∇c(θ) = vec(-(y - ydotdot(S,θ))' *[S ones(length(y))])"
   ]
  },
  {
   "cell_type": "markdown",
   "metadata": {},
   "source": [
    "### Gradient Descent Algorithm \n",
    "\n",
    "Implementing a supervised learning gradient descent using Algorithm 1.5.1 (pg.23)"
   ]
  },
  {
   "cell_type": "code",
   "execution_count": 27,
   "metadata": {},
   "outputs": [
    {
     "data": {
      "text/plain": [
       "gradient_descent (generic function with 1 method)"
      ]
     },
     "execution_count": 27,
     "metadata": {},
     "output_type": "execute_result"
    }
   ],
   "source": [
    "function gradient_descent(θ;max_iter = 200, gamma = 0.1)\n",
    "    gradhist = []\n",
    "    t = 0 \n",
    "    gradnorm = Inf \n",
    "    while gradnorm >= 10e-4 && t < max_iter\n",
    "        gt = ∇c(θ)\n",
    "        θ = θ .- gamma.*gt\n",
    "        gradnorm = maximum(abs.(gt))\n",
    "        t = t+1 \n",
    "        println(\"Iterations: $t \\t gradnorm = $gradnorm\")\n",
    "        gradhist =[gradhist;gradnorm]\n",
    "    end\n",
    "    return θ, gradhist\n",
    "end"
   ]
  },
  {
   "cell_type": "markdown",
   "metadata": {},
   "source": [
    "Initializing theta "
   ]
  },
  {
   "cell_type": "code",
   "execution_count": 28,
   "metadata": {},
   "outputs": [],
   "source": [
    "initialtheta = zeros(size(S)[2]+1);"
   ]
  },
  {
   "cell_type": "markdown",
   "metadata": {},
   "source": [
    "Now let's run our gradient descent algorithm to find the values that minimize our cost function"
   ]
  },
  {
   "cell_type": "code",
   "execution_count": 29,
   "metadata": {},
   "outputs": [
    {
     "name": "stdout",
     "output_type": "stream",
     "text": [
      "Iterations: 1 \t gradnorm = 1813.0\n",
      "Iterations: 2 \t gradnorm = 812.2174883151084\n",
      "Iterations: 3 \t gradnorm = 358.69969220030225\n",
      "Iterations: 4 \t gradnorm = 196.21833468769532\n",
      "Iterations: 5 \t gradnorm = 172.92168920738123\n",
      "Iterations: 6 \t gradnorm = 156.8261200598081\n",
      "Iterations: 7 \t gradnorm = 144.35468974522144\n",
      "Iterations: 8 \t gradnorm = 133.86908910550454\n",
      "Iterations: 9 \t gradnorm = 124.6049709331153\n",
      "Iterations: 10 \t gradnorm = 116.19353001126609\n",
      "Iterations: 11 \t gradnorm = 108.44625916358795\n",
      "Iterations: 12 \t gradnorm = 101.25790736955904\n",
      "Iterations: 13 \t gradnorm = 94.56257031179726\n",
      "Iterations: 14 \t gradnorm = 88.31369705506509\n",
      "Iterations: 15 \t gradnorm = 82.47488678946951\n",
      "Iterations: 16 \t gradnorm = 77.01557255010364\n",
      "Iterations: 17 \t gradnorm = 71.90893275021362\n",
      "Iterations: 18 \t gradnorm = 67.13082935928384\n",
      "Iterations: 19 \t gradnorm = 62.65922768188444\n",
      "Iterations: 20 \t gradnorm = 58.47384857231593\n",
      "Iterations: 21 \t gradnorm = 55.884677136082004\n",
      "Iterations: 22 \t gradnorm = 53.71386398356221\n",
      "Iterations: 23 \t gradnorm = 51.65122450594244\n",
      "Iterations: 24 \t gradnorm = 49.6902893438506\n",
      "Iterations: 25 \t gradnorm = 47.82502161309792\n",
      "Iterations: 26 \t gradnorm = 46.04978543834271\n",
      "Iterations: 27 \t gradnorm = 44.35931721663338\n",
      "Iterations: 28 \t gradnorm = 42.748699170109504\n",
      "Iterations: 29 \t gradnorm = 41.213334916113595\n",
      "Iterations: 30 \t gradnorm = 39.7489268622467\n",
      "Iterations: 31 \t gradnorm = 38.35145527331717\n",
      "Iterations: 32 \t gradnorm = 37.01715887883988\n",
      "Iterations: 33 \t gradnorm = 35.74251690352525\n",
      "Iterations: 34 \t gradnorm = 34.52423241336547\n",
      "Iterations: 35 \t gradnorm = 33.359216878331104\n",
      "Iterations: 36 \t gradnorm = 32.24457586013768\n",
      "Iterations: 37 \t gradnorm = 31.17759574035794\n",
      "Iterations: 38 \t gradnorm = 30.155731410485615\n",
      "Iterations: 39 \t gradnorm = 29.176594851451824\n",
      "Iterations: 40 \t gradnorm = 28.237944535589747\n",
      "Iterations: 41 \t gradnorm = 27.337675589158035\n",
      "Iterations: 42 \t gradnorm = 26.473810658274974\n",
      "Iterations: 43 \t gradnorm = 25.644491425520325\n",
      "Iterations: 44 \t gradnorm = 24.847970728525432\n",
      "Iterations: 45 \t gradnorm = 24.082605235638262\n",
      "Iterations: 46 \t gradnorm = 23.346848637219722\n",
      "Iterations: 47 \t gradnorm = 22.639245314329685\n",
      "Iterations: 48 \t gradnorm = 21.958424449513615\n",
      "Iterations: 49 \t gradnorm = 21.30309454712091\n",
      "Iterations: 50 \t gradnorm = 20.67203833309096\n",
      "Iterations: 51 \t gradnorm = 20.064108006450905\n",
      "Iterations: 52 \t gradnorm = 19.478220816894588\n",
      "Iterations: 53 \t gradnorm = 18.913354944768027\n",
      "Iterations: 54 \t gradnorm = 18.368545661589703\n",
      "Iterations: 55 \t gradnorm = 17.842881750894186\n",
      "Iterations: 56 \t gradnorm = 17.335502170715337\n",
      "Iterations: 57 \t gradnorm = 16.84559294043465\n",
      "Iterations: 58 \t gradnorm = 16.372384236018195\n",
      "Iterations: 59 \t gradnorm = 15.915147678861398\n",
      "Iterations: 60 \t gradnorm = 15.473193804563197\n",
      "Iterations: 61 \t gradnorm = 15.045869698968906\n",
      "Iterations: 62 \t gradnorm = 14.632556789757283\n",
      "Iterations: 63 \t gradnorm = 14.232668782713567\n",
      "Iterations: 64 \t gradnorm = 13.845649732627223\n",
      "Iterations: 65 \t gradnorm = 13.47097223949089\n",
      "Iterations: 66 \t gradnorm = 13.10813576135664\n",
      "Iterations: 67 \t gradnorm = 12.756665035833556\n",
      "Iterations: 68 \t gradnorm = 12.416108602791265\n",
      "Iterations: 69 \t gradnorm = 12.122395145073193\n",
      "Iterations: 70 \t gradnorm = 12.106297716574472\n",
      "Iterations: 71 \t gradnorm = 12.090537708879275\n",
      "Iterations: 72 \t gradnorm = 12.075099047783219\n",
      "Iterations: 73 \t gradnorm = 12.059966568192639\n",
      "Iterations: 74 \t gradnorm = 12.045125957701112\n",
      "Iterations: 75 \t gradnorm = 12.030563703887111\n",
      "Iterations: 76 \t gradnorm = 12.016267045074951\n",
      "Iterations: 77 \t gradnorm = 12.002223924319066\n",
      "Iterations: 78 \t gradnorm = 11.988422946389965\n",
      "Iterations: 79 \t gradnorm = 11.974853337556393\n",
      "Iterations: 80 \t gradnorm = 11.961504907971344\n",
      "Iterations: 81 \t gradnorm = 11.948368016486299\n",
      "Iterations: 82 \t gradnorm = 11.935433537727189\n",
      "Iterations: 83 \t gradnorm = 11.922692831280076\n",
      "Iterations: 84 \t gradnorm = 11.910137712845147\n",
      "Iterations: 85 \t gradnorm = 11.897760427224465\n",
      "Iterations: 86 \t gradnorm = 11.88555362302367\n",
      "Iterations: 87 \t gradnorm = 11.87351032895101\n",
      "Iterations: 88 \t gradnorm = 11.861623931609271\n",
      "Iterations: 89 \t gradnorm = 11.849888154680295\n",
      "Iterations: 90 \t gradnorm = 11.838297039411371\n",
      "Iterations: 91 \t gradnorm = 11.826844926317197\n",
      "Iterations: 92 \t gradnorm = 11.815526438017615\n",
      "Iterations: 93 \t gradnorm = 11.804336463137561\n",
      "Iterations: 94 \t gradnorm = 11.793270141199551\n",
      "Iterations: 95 \t gradnorm = 11.782322848443911\n",
      "Iterations: 96 \t gradnorm = 11.771490184517738\n",
      "Iterations: 97 \t gradnorm = 11.760767959975436\n",
      "Iterations: 98 \t gradnorm = 11.750152184539708\n",
      "Iterations: 99 \t gradnorm = 11.739639056073168\n",
      "Iterations: 100 \t gradnorm = 11.729224950216084\n"
     ]
    }
   ],
   "source": [
    "thetas, gradhist = gradient_descent(initialtheta,  gamma = 9.89e-5, max_iter=100);"
   ]
  },
  {
   "cell_type": "markdown",
   "metadata": {},
   "source": [
    "### Visualizing the `gradnorm`"
   ]
  },
  {
   "cell_type": "code",
   "execution_count": 30,
   "metadata": {},
   "outputs": [
    {
     "data": {
      "image/png": "[encoded data removed]",
      "text/plain": [
       "Figure(PyObject <Figure size 640x480 with 1 Axes>)"
      ]
     },
     "metadata": {},
     "output_type": "display_data"
    }
   ],
   "source": [
    "figure()\n",
    "plot(gradhist)\n",
    "xlabel(\"iterations →\")\n",
    "ylabel(\"gradnorm →\");"
   ]
  },
  {
   "cell_type": "markdown",
   "metadata": {},
   "source": [
    "Learned Parameter"
   ]
  },
  {
   "cell_type": "code",
   "execution_count": 31,
   "metadata": {},
   "outputs": [
    {
     "data": {
      "text/plain": [
       "7-element Vector{Float64}:\n",
       " 0.369880977281267\n",
       " 0.11210971231317349\n",
       " 0.18520869081297514\n",
       " 0.35009910194857186\n",
       " 0.04622576150747663\n",
       " 0.13684729652015795\n",
       " 0.2755780132702609"
      ]
     },
     "execution_count": 31,
     "metadata": {},
     "output_type": "execute_result"
    }
   ],
   "source": [
    "thetas"
   ]
  },
  {
   "cell_type": "markdown",
   "metadata": {},
   "source": [
    "## Exercise \n",
    "\n",
    "1. Re-run the above binary logistic regression example with a dataset of your choice. To run this notebook with your own data, you only need to change two lines of codes:\n",
    "```julia\n",
    "path = joinpath(pwd(),\"data\",\"spam.csv\")\n",
    "```\n",
    "If you drop your dataset file in the \"data\" folder, then you only need to change `spam.csv` part to the your dataset file name. \n",
    "\n",
    "The next is specifying your input patterns and the target variable\n",
    "\n",
    "```julia\n",
    "S = select(spam, Not(:yesno)) |> Matrix\n",
    "y = spam.yesno .== \"y\";\n",
    "```\n",
    "Instead of `yesno`, you will specify the column-name in your dataset that corresponds to your outcome variable. "
   ]
  },
  {
   "cell_type": "markdown",
   "metadata": {},
   "source": [
    "2. Create a new notebook and implement a simple non-linear regression with radial basis output function. Refer the textbook to implement the objective function and derive its gradient. You can reuse the `gradient_descent` algorithm implementation from this example for the assignment. "
   ]
  }
 ],
 "metadata": {
  "kernelspec": {
   "display_name": "Julia 1.8.0",
   "language": "julia",
   "name": "julia-1.8"
  },
  "language_info": {
   "file_extension": ".jl",
   "mimetype": "application/julia",
   "name": "julia",
   "version": "1.8.0"
  },
  "orig_nbformat": 4
 },
 "nbformat": 4,
 "nbformat_minor": 2
}
