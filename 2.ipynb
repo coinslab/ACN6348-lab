{
 "cells": [
  {
   "cell_type": "markdown",
   "metadata": {},
   "source": [
    "## Logistic Regression using `Optim.jl`"
   ]
  },
  {
   "cell_type": "code",
   "execution_count": 11,
   "metadata": {},
   "outputs": [
    {
     "name": "stderr",
     "output_type": "stream",
     "text": [
      "\u001b[32m\u001b[1m  Activating\u001b[22m\u001b[39m project at `~/Documents/CODE/ACN6348-lab`\n"
     ]
    }
   ],
   "source": [
    "using Pkg\n",
    "Pkg.activate(\".\")\n",
    "using CSV\n",
    "using DataFrames\n",
    "using PyPlot\n",
    "using Optim"
   ]
  },
  {
   "cell_type": "markdown",
   "metadata": {},
   "source": [
    "## Loading the dataset"
   ]
  },
  {
   "cell_type": "code",
   "execution_count": 12,
   "metadata": {},
   "outputs": [
    {
     "data": {
      "text/html": [
       "<div class=\"data-frame\"><p>4 rows × 7 columns</p><table class=\"data-frame\"><thead><tr><th></th><th>crl.tot</th><th>dollar</th><th>bang</th><th>money</th><th>n000</th><th>make</th><th>yesno</th></tr><tr><th></th><th title=\"Int64\">Int64</th><th title=\"Float64\">Float64</th><th title=\"Float64\">Float64</th><th title=\"Float64\">Float64</th><th title=\"Float64\">Float64</th><th title=\"Float64\">Float64</th><th title=\"String1\">String1</th></tr></thead><tbody><tr><th>1</th><td>278</td><td>0.0</td><td>0.778</td><td>0.0</td><td>0.0</td><td>0.0</td><td>y</td></tr><tr><th>2</th><td>1028</td><td>0.18</td><td>0.372</td><td>0.43</td><td>0.43</td><td>0.21</td><td>y</td></tr><tr><th>3</th><td>2259</td><td>0.184</td><td>0.276</td><td>0.06</td><td>1.16</td><td>0.06</td><td>y</td></tr><tr><th>4</th><td>191</td><td>0.0</td><td>0.137</td><td>0.0</td><td>0.0</td><td>0.0</td><td>y</td></tr></tbody></table></div>"
      ],
      "text/latex": [
       "\\begin{tabular}{r|ccccccc}\n",
       "\t& crl.tot & dollar & bang & money & n000 & make & yesno\\\\\n",
       "\t\\hline\n",
       "\t& Int64 & Float64 & Float64 & Float64 & Float64 & Float64 & String1\\\\\n",
       "\t\\hline\n",
       "\t1 & 278 & 0.0 & 0.778 & 0.0 & 0.0 & 0.0 & y \\\\\n",
       "\t2 & 1028 & 0.18 & 0.372 & 0.43 & 0.43 & 0.21 & y \\\\\n",
       "\t3 & 2259 & 0.184 & 0.276 & 0.06 & 1.16 & 0.06 & y \\\\\n",
       "\t4 & 191 & 0.0 & 0.137 & 0.0 & 0.0 & 0.0 & y \\\\\n",
       "\\end{tabular}\n"
      ],
      "text/plain": [
       "\u001b[1m4×7 DataFrame\u001b[0m\n",
       "\u001b[1m Row \u001b[0m│\u001b[1m crl.tot \u001b[0m\u001b[1m dollar  \u001b[0m\u001b[1m bang    \u001b[0m\u001b[1m money   \u001b[0m\u001b[1m n000    \u001b[0m\u001b[1m make    \u001b[0m\u001b[1m yesno   \u001b[0m\n",
       "\u001b[1m     \u001b[0m│\u001b[90m Int64   \u001b[0m\u001b[90m Float64 \u001b[0m\u001b[90m Float64 \u001b[0m\u001b[90m Float64 \u001b[0m\u001b[90m Float64 \u001b[0m\u001b[90m Float64 \u001b[0m\u001b[90m String1 \u001b[0m\n",
       "─────┼───────────────────────────────────────────────────────────────\n",
       "   1 │     278    0.0      0.778     0.0      0.0      0.0   y\n",
       "   2 │    1028    0.18     0.372     0.43     0.43     0.21  y\n",
       "   3 │    2259    0.184    0.276     0.06     1.16     0.06  y\n",
       "   4 │     191    0.0      0.137     0.0      0.0      0.0   y"
      ]
     },
     "execution_count": 12,
     "metadata": {},
     "output_type": "execute_result"
    }
   ],
   "source": [
    "path = joinpath(pwd(),\"data\",\"spam.csv\")\n",
    "spam = CSV.read(path,DataFrame)\n",
    "first(spam,4) # show only first four rows"
   ]
  },
  {
   "cell_type": "markdown",
   "metadata": {},
   "source": [
    "## Extracting input patterns and targets"
   ]
  },
  {
   "cell_type": "code",
   "execution_count": 13,
   "metadata": {},
   "outputs": [],
   "source": [
    "S = select(spam, Not(:yesno)) |> Matrix\n",
    "y = spam.yesno .== \"y\";"
   ]
  },
  {
   "cell_type": "code",
   "execution_count": 14,
   "metadata": {},
   "outputs": [
    {
     "data": {
      "text/plain": [
       "sigmoid (generic function with 1 method)"
      ]
     },
     "execution_count": 14,
     "metadata": {},
     "output_type": "execute_result"
    }
   ],
   "source": [
    "sigmoid(x) = (1 + exp(-x)).^-1"
   ]
  },
  {
   "cell_type": "code",
   "execution_count": 15,
   "metadata": {},
   "outputs": [],
   "source": [
    "SS = [ones(size(S,1)) S];"
   ]
  },
  {
   "cell_type": "markdown",
   "metadata": {},
   "source": [
    "## Empirical Risk Function"
   ]
  },
  {
   "cell_type": "code",
   "execution_count": 16,
   "metadata": {},
   "outputs": [
    {
     "data": {
      "text/plain": [
       "erf (generic function with 1 method)"
      ]
     },
     "execution_count": 16,
     "metadata": {},
     "output_type": "execute_result"
    }
   ],
   "source": [
    "function erf(θ)\n",
    "    n = length(y)\n",
    "    yhat = sigmoid.(SS*θ)\n",
    "    sum(1/n*(-y .* log.(yhat)) .- ((1 .- y) .* log.(1 .- yhat)))\n",
    "end"
   ]
  },
  {
   "cell_type": "code",
   "execution_count": 17,
   "metadata": {},
   "outputs": [],
   "source": [
    "initialtheta = zeros(size(SS,2),1);"
   ]
  },
  {
   "cell_type": "markdown",
   "metadata": {},
   "source": [
    "## Running Gradient Descent "
   ]
  },
  {
   "cell_type": "code",
   "execution_count": 18,
   "metadata": {},
   "outputs": [
    {
     "data": {
      "text/plain": [
       " * Status: success\n",
       "\n",
       " * Candidate solution\n",
       "    Final objective value:     5.278047e+02\n",
       "\n",
       " * Found with\n",
       "    Algorithm:     Gradient Descent\n",
       "\n",
       " * Convergence measures\n",
       "    |x - x'|               = 0.00e+00 ≤ 0.0e+00\n",
       "    |x - x'|/|x'|          = 0.00e+00 ≤ 0.0e+00\n",
       "    |f(x) - f(x')|         = 0.00e+00 ≤ 0.0e+00\n",
       "    |f(x) - f(x')|/|f(x')| = 0.00e+00 ≤ 0.0e+00\n",
       "    |g(x)|                 = 7.59e+03 ≰ 1.0e-08\n",
       "\n",
       " * Work counters\n",
       "    Seconds run:   3  (vs limit Inf)\n",
       "    Iterations:    3\n",
       "    f(x) calls:    173\n",
       "    ∇f(x) calls:   173\n"
      ]
     },
     "execution_count": 18,
     "metadata": {},
     "output_type": "execute_result"
    }
   ],
   "source": [
    "res = optimize(erf,initialtheta, GradientDescent(), Optim.Options(store_trace=true))"
   ]
  },
  {
   "cell_type": "markdown",
   "metadata": {},
   "source": [
    "## Extracting Learned Parameters"
   ]
  },
  {
   "cell_type": "code",
   "execution_count": 19,
   "metadata": {},
   "outputs": [
    {
     "data": {
      "text/plain": [
       "7×1 Matrix{Float64}:\n",
       " -0.0002775281969373383\n",
       " -0.04480061277932013\n",
       " -3.2263975582861476e-6\n",
       " -3.0507684247597087e-5\n",
       " -4.748525188150495e-6\n",
       " -1.9575721010258256e-6\n",
       " -2.0389455253283643e-5"
      ]
     },
     "execution_count": 19,
     "metadata": {},
     "output_type": "execute_result"
    }
   ],
   "source": [
    "thetas = Optim.minimizer(res)"
   ]
  },
  {
   "cell_type": "markdown",
   "metadata": {},
   "source": [
    "## Visualizing the `gradnorm`"
   ]
  },
  {
   "cell_type": "code",
   "execution_count": 20,
   "metadata": {},
   "outputs": [
    {
     "data": {
      "image/png": "[encoded data removed]",
      "text/plain": [
       "Figure(PyObject <Figure size 640x480 with 1 Axes>)"
      ]
     },
     "metadata": {},
     "output_type": "display_data"
    }
   ],
   "source": [
    "figure()\n",
    "plot(Optim.g_norm_trace(res))\n",
    "xlabel(\"iterations →\")\n",
    "ylabel(\"gradnorm →\");"
   ]
  }
 ],
 "metadata": {
  "kernelspec": {
   "display_name": "Julia 1.8.0",
   "language": "julia",
   "name": "julia-1.8"
  },
  "language_info": {
   "file_extension": ".jl",
   "mimetype": "application/julia",
   "name": "julia",
   "version": "1.8.0"
  },
  "orig_nbformat": 4,
  "vscode": {
   "interpreter": {
    "hash": "aee8b7b246df8f9039afb4144a1f6fd8d2ca17a180786b69acc140d282b71a49"
   }
  }
 },
 "nbformat": 4,
 "nbformat_minor": 2
}
